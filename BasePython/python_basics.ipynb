{
 "cells": [
  {
   "cell_type": "markdown",
   "metadata": {},
   "source": [
    "**Задание 1**. Даны 2 строки: *long_phrase* и *short_phrase*. \n",
    "Напишите код, который проверяет действительно ли длинная фраза *long_phrase* длиннее короткой *short_phrase*. И выводит *True* или *False* в зависимости от результата сравнения."
   ]
  },
  {
   "cell_type": "code",
   "execution_count": 26,
   "metadata": {},
   "outputs": [],
   "source": [
    "long_phrase = 'Насколько проще было бы писать программы, если бы не заказчики'\n",
    "short_phrase = '640Кб  должно хватить для любых задач.Билл Гейтс(по легенде)'"
   ]
  },
  {
   "cell_type": "code",
   "execution_count": 30,
   "metadata": {},
   "outputs": [
    {
     "data": {
      "text/plain": [
       "True"
      ]
     },
     "execution_count": 30,
     "metadata": {},
     "output_type": "execute_result"
    }
   ],
   "source": [
    "len(long_phrase) > len(short_phrase)\n",
    "    \n"
   ]
  },
  {
   "cell_type": "markdown",
   "metadata": {},
   "source": [
    "**Задание 2**. Дано значение объема файла в байтах (*в мегабайте 2^20 байт*). Напишите перевод этого значения в мегабайты в формате: \"*Объем файла равен 213.68Mb*\"."
   ]
  },
  {
   "cell_type": "code",
   "execution_count": 45,
   "metadata": {},
   "outputs": [
    {
     "name": "stdout",
     "output_type": "stream",
     "text": [
      "Введите объем файла в байтах 3000000000\n",
      "Объем файла равен 2861.02294921875 Mb\n"
     ]
    }
   ],
   "source": [
    "file = int(input('Введите объем файла в байтах ')) \n",
    "r = file * 2 ** -20\n",
    "print('Объем файла равен', r,'Mb')"
   ]
  },
  {
   "cell_type": "markdown",
   "metadata": {},
   "source": [
    "**Задание 3**. Разработать приложение для определения знака зодиака по дате рождения. Пример:\n",
    "\n",
    "Введите месяц: март\n",
    "\n",
    "Введите число: 6\n",
    "\n",
    "Вывод:\n",
    "Рыбы"
   ]
  },
  {
   "cell_type": "code",
   "execution_count": 1,
   "metadata": {},
   "outputs": [
    {
     "name": "stdout",
     "output_type": "stream",
     "text": [
      "Введите месяц: 6\n",
      "Введите число: 30\n",
      "Рак\n"
     ]
    }
   ],
   "source": [
    "# первый вариант задания 3\n",
    "month = int(input('Введите месяц: '))\n",
    "date = int(input('Введите число: '))\n",
    "if month == 1:\n",
    "    if date <= 20:\n",
    "        print('Козерог')\n",
    "    elif (21 <= date <= 31):\n",
    "        print('Водолей')\n",
    "elif month == 2:\n",
    "    if date <= 20:\n",
    "        print('Водолей')\n",
    "    elif (21 <= date <= 29):\n",
    "        print('Рыбы')\n",
    "elif month == 3:\n",
    "    if date <= 20:\n",
    "        print('Рыбы')\n",
    "    elif (21 <= date <= 31):\n",
    "        print('Овен')\n",
    "elif month == 4:\n",
    "    if date <= 20:\n",
    "        print('Овен') \n",
    "    elif (21 <= date <= 30):\n",
    "        print('Телец')\n",
    "elif month == 5:\n",
    "    if date <= 21:\n",
    "        print('Телец')\n",
    "    elif (22 <= date <= 31):\n",
    "        print('Близнецы')\n",
    "elif month == 6:\n",
    "    if date <= 21 :\n",
    "        print('Близнецы')\n",
    "    elif (22 <= date <= 30):\n",
    "        print('Рак')\n",
    "elif month == 7:\n",
    "    if date <= 22:\n",
    "        print('Рак')\n",
    "    elif (23 <= date <= 31):\n",
    "        print('Лев')\n",
    "elif month == 8:\n",
    "    if date <= 23:\n",
    "        print('Лев')\n",
    "    elif (24 <= date <= 31):\n",
    "        print('Дева')\n",
    "elif month == 9:\n",
    "    if date <= 22:\n",
    "        print('Дева')\n",
    "    elif (23 <= date <= 30):\n",
    "        print('Весы')\n",
    "elif month == 10:\n",
    "    if date <= 22:\n",
    "        print('Весы')\n",
    "    elif (23 <= date <= 31):\n",
    "        print('Скорпион')\n",
    "elif month == 11:\n",
    "    if date <= 21:\n",
    "        print('Скорпион')\n",
    "    elif (22 <= date <= 30):\n",
    "        print('Стрелец')\n",
    "elif month == 12:\n",
    "    if date <= 21:\n",
    "        print('Стрелец')\n",
    "    elif (22 <= date <= 31):\n",
    "        print('Козерог')\n",
    "\n",
    "\n",
    "\n",
    "\n",
    "\n",
    "      \n",
    "        \n",
    "    \n",
    "\n"
   ]
  },
  {
   "cell_type": "code",
   "execution_count": 5,
   "metadata": {},
   "outputs": [
    {
     "name": "stdout",
     "output_type": "stream",
     "text": [
      "Введите название месяца (например, Март): Май\n",
      "Введите число: 34\n",
      "Проверьте правильность введенной даты\n"
     ]
    }
   ],
   "source": [
    "# второй вариант задания 3\n",
    "month = input('Введите название месяца (например, Март): ')\n",
    "date = int(input('Введите число: '))\n",
    "if month == 'Январь' and date <= 20 or month == 'Декабрь' and (22 <= date <= 31):\n",
    "    print('Козерог')\n",
    "elif month == 'Февраль' and date <= 20 or month == 'Январь' and (21 <= date <= 31):\n",
    "    print('Водолей')\n",
    "elif month == 'Март' and date <= 20 or month == 'Февраль' and (21 <= date <= 29):\n",
    "    print('Рыбы')\n",
    "elif month == 'Апрель' and date <= 20 or month == 'Март' and (21 <= date <= 31):\n",
    "    print('Овен')\n",
    "elif month == 'Май' and date <= 21 or month == 'Апрель' and (21 <= date <= 30):\n",
    "    print('Телец')\n",
    "elif month == 'Июнь' and date <= 21 or month == 'Май' and (22 <= date <= 31):\n",
    "    print('Близнецы')\n",
    "elif month == 'Июль' and date <= 22 or month == 'Июнь' and (22 <= date <= 30):\n",
    "    print('Рак')\n",
    "elif month == 'Август' and date <= 23 or month == 'Июль' and (23 <= date <= 31):\n",
    "    print('Лев')\n",
    "elif month == 'Сентябрь' and date <= 22 or month == 'Август' and (24 <= date <= 31):\n",
    "    print('Дева')\n",
    "elif month == 'Октябрь' and date <= 22 or month == 'Сентябрь' and (23 <= date <= 30):\n",
    "    print('Весы')\n",
    "elif month == 'Ноябрь' and date <= 21 or month == 'Октябрь' and (23 <= date <= 31):\n",
    "    print('Скорпион')\n",
    "elif month == 'Декабрь' and date <= 21 or month == 'Ноябрь' and (22 <= date <= 30):\n",
    "    print('Стрелец')\n",
    "else:\n",
    "    print('Проверьте правильность введенной даты')"
   ]
  },
  {
   "cell_type": "code",
   "execution_count": 2,
   "metadata": {},
   "outputs": [
    {
     "ename": "SyntaxError",
     "evalue": "invalid syntax (<ipython-input-2-a296928d4157>, line 1)",
     "output_type": "error",
     "traceback": [
      "\u001b[1;36m  File \u001b[1;32m\"<ipython-input-2-a296928d4157>\"\u001b[1;36m, line \u001b[1;32m1\u001b[0m\n\u001b[1;33m    **Задание 4**. Нужно разработать приложение для финансового планирования.\u001b[0m\n\u001b[1;37m     ^\u001b[0m\n\u001b[1;31mSyntaxError\u001b[0m\u001b[1;31m:\u001b[0m invalid syntax\n"
     ]
    }
   ],
   "source": [
    "**Задание 4**. Нужно разработать приложение для финансового планирования.\n",
    "Приложение учитывает сколько уходит на ипотеку, \"на жизнь\" и сколько нужно отложить на пенсию.\n",
    "Пользователь вводит:\n",
    "- заработанную плату в месяц.\n",
    "- сколько процентов от ЗП уходит на ипотеку.\n",
    "- сколько процентов от ЗП уходит \"на жизнь\".\n",
    "- сколько раз приходит премия в год.\n",
    "\n",
    "Остальная часть заработанной платы откладывается на пенсию.\n",
    "\n",
    "Также пользователю приходит премия в размере зарплаты, от которой половина уходит на отпуск, а вторая половина откладывается.\n",
    "\n",
    "Программа должна учитывать сколько премий было в год.\n",
    "\n",
    "Нужно вывести сколько денег тратит пользователь на ипотеку и сколько он накопит за год.\n",
    "\n",
    "Пример:\n",
    "\n",
    "Введите заработанную плату в месяц: 100000\n",
    "\n",
    "Введите сколько процентов уходит на ипотеку: 30\n",
    "\n",
    "Введите сколько процентов уходит на жизнь: 50\n",
    "\n",
    "Введите количество премий за год: 2\n",
    "\n",
    "Вывод:\n",
    "На ипотеку было потрачено: 360000 рублей\n",
    "Было накоплено: 340000 рублей"
   ]
  },
  {
   "cell_type": "code",
   "execution_count": 18,
   "metadata": {},
   "outputs": [
    {
     "name": "stdout",
     "output_type": "stream",
     "text": [
      "Введите заработную плату в месяц: 100000\n",
      "Введите сколько процентов уходит на ипотеку: 30\n",
      "Введите сколько процентов уходит на жизнь: 50\n",
      "Введите количество премий за год: 2\n",
      "Вывод:\n",
      "На ипотеку было потрачено:  360000.0\n",
      "Было накоплено:  340000.0\n"
     ]
    }
   ],
   "source": [
    "salary = int(input('Введите заработную плату в месяц: '))\n",
    "percent_for_hypothec = int(input('Введите сколько процентов уходит на ипотеку: '))\n",
    "percent_for_live = int(input('Введите сколько процентов уходит на жизнь: '))\n",
    "bonus = int(input('Введите количество премий за год: '))\n",
    "after_for_live = salary * 12 - salary * 12 * percent_for_live / 100\n",
    "for_hypothec = salary * percent_for_hypothec / 100 *12\n",
    "print('Вывод:')\n",
    "print('На ипотеку было потрачено: ', for_hypothec)\n",
    "save = after_for_live - for_hypothec + bonus * salary / 2\n",
    "print('Было накоплено: ', save)\n"
   ]
  },
  {
   "cell_type": "code",
   "execution_count": null,
   "metadata": {},
   "outputs": [],
   "source": []
  }
 ],
 "metadata": {
  "kernelspec": {
   "display_name": "Python 3",
   "language": "python",
   "name": "python3"
  },
  "language_info": {
   "codemirror_mode": {
    "name": "ipython",
    "version": 3
   },
   "file_extension": ".py",
   "mimetype": "text/x-python",
   "name": "python",
   "nbconvert_exporter": "python",
   "pygments_lexer": "ipython3",
   "version": "3.7.4"
  }
 },
 "nbformat": 4,
 "nbformat_minor": 2
}
